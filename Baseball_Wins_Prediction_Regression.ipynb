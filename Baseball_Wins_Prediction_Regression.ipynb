{
 "cells": [
  {
   "cell_type": "markdown",
   "metadata": {},
   "source": [
    "# Prediction the number of wins Oakland Ace required to win the 2002 American Baseball League.\n",
    "## Regression Problem"
   ]
  },
  {
   "cell_type": "code",
   "execution_count": 2,
   "metadata": {},
   "outputs": [],
   "source": [
    "import warnings                    # to ignore warnings in the output\n",
    "warnings.filterwarnings('ignore')\n",
    "\n",
    "import pandas as pd                # for dataframe operations\n",
    "import numpy as np                 # for math \n",
    "import matplotlib.pyplot as plt    # for basic plots\n",
    "import seaborn as sns              # for advance-level plots\n",
    "\n",
    "# Null value Imuptation\n",
    "\n",
    "from sklearn.experimental import enable_iterative_imputer\n",
    "from sklearn.impute import IterativeImputer\n",
    "\n",
    "# ML Models\n",
    "from sklearn.linear_model import LinearRegression\n",
    "from sklearn.model_selection import GridSearchCV\n",
    "from xgboost import XGBRegressor"
   ]
  },
  {
   "cell_type": "markdown",
   "metadata": {},
   "source": [
    "##### Importing the Basball data"
   ]
  },
  {
   "cell_type": "code",
   "execution_count": 3,
   "metadata": {},
   "outputs": [],
   "source": [
    "\n",
    "df = pd.read_csv('baseball.csv')\n",
    "\n",
    "# Since the prediction was made for the 2002 playoffs, let's use the data from 1962 to 2001.\n",
    "\n",
    "df = df[df['Year']<2002]"
   ]
  },
  {
   "cell_type": "markdown",
   "metadata": {},
   "source": [
    "##### Handling Null Values"
   ]
  },
  {
   "cell_type": "code",
   "execution_count": 5,
   "metadata": {},
   "outputs": [
    {
     "data": {
      "text/plain": [
       "Team              0\n",
       "League            0\n",
       "Year              0\n",
       "RS                0\n",
       "RA                0\n",
       "W                 0\n",
       "OBP               0\n",
       "SLG               0\n",
       "BA                0\n",
       "Playoffs          0\n",
       "RankSeason      748\n",
       "RankPlayoffs    748\n",
       "G                 0\n",
       "OOBP            812\n",
       "OSLG            812\n",
       "dtype: int64"
      ]
     },
     "execution_count": 5,
     "metadata": {},
     "output_type": "execute_result"
    }
   ],
   "source": [
    "df.isnull().sum()"
   ]
  },
  {
   "cell_type": "code",
   "execution_count": 4,
   "metadata": {},
   "outputs": [
    {
     "data": {
      "text/plain": [
       "Year            0\n",
       "RS              0\n",
       "RA              0\n",
       "W               0\n",
       "OBP             0\n",
       "SLG             0\n",
       "BA              0\n",
       "Playoffs        0\n",
       "RankSeason      0\n",
       "RankPlayoffs    0\n",
       "G               0\n",
       "OOBP            0\n",
       "OSLG            0\n",
       "dtype: int64"
      ]
     },
     "execution_count": 4,
     "metadata": {},
     "output_type": "execute_result"
    }
   ],
   "source": [
    "# Taking only the numerical features for imputation\n",
    "df_1 = df.select_dtypes(include=['float64','int64'])\n",
    "\n",
    "# Seting up the imputation knobs\n",
    "IT = IterativeImputer(estimator = XGBRegressor(), random_state=20)\n",
    "\n",
    "# Dataframe without NULL values\n",
    "df_final = pd.DataFrame(IT.fit_transform(df_1), columns= df_1.columns)\n",
    "df_final.isnull().sum()"
   ]
  },
  {
   "cell_type": "markdown",
   "metadata": {},
   "source": [
    "##### Train_Test Split"
   ]
  },
  {
   "cell_type": "code",
   "execution_count": 61,
   "metadata": {},
   "outputs": [],
   "source": [
    "# After removing the features that had multicollinearity, X:\n",
    "X = df_final[['OBP','SLG','OOBP','OSLG']]\n",
    "y = df_final['W']"
   ]
  },
  {
   "cell_type": "markdown",
   "metadata": {},
   "source": [
    "### Non Linear Models"
   ]
  },
  {
   "cell_type": "markdown",
   "metadata": {},
   "source": [
    "##### XGB - Extreme Gradient Boosting Model"
   ]
  },
  {
   "cell_type": "code",
   "execution_count": 63,
   "metadata": {},
   "outputs": [
    {
     "data": {
      "text/plain": [
       "{'max_depth': 4, 'n_estimators': 26}"
      ]
     },
     "execution_count": 63,
     "metadata": {},
     "output_type": "execute_result"
    }
   ],
   "source": [
    "# A variable to remember the model\n",
    "XGB = XGBRegressor()\n",
    "\n",
    "param_grid = {'n_estimators': np.arange(1,50), 'max_depth': np.arange(3,15)}\n",
    "\n",
    "Grid = GridSearchCV(XGB, param_grid = param_grid, cv = 5, scoring = 'neg_mean_squared_error')\n",
    "\n",
    "Grid.fit(X,y)\n",
    "\n",
    "Grid.best_params_"
   ]
  },
  {
   "cell_type": "markdown",
   "metadata": {},
   "source": [
    "##### Data resulting from other analysis that was provided. "
   ]
  },
  {
   "cell_type": "code",
   "execution_count": 64,
   "metadata": {},
   "outputs": [],
   "source": [
    "# Test data\n",
    "X_test = pd.DataFrame({'OBP':[0.339], 'SLG':[0.430], 'OOBP':[0.307],'OSLG':[0.373]})"
   ]
  },
  {
   "cell_type": "code",
   "execution_count": 98,
   "metadata": {},
   "outputs": [
    {
     "name": "stdout",
     "output_type": "stream",
     "text": [
      "Required Number of Wins: 101.06\n"
     ]
    }
   ],
   "source": [
    "\n",
    "XGB = XGBRegressor(n_estimators = 16, max_depth = 17)\n",
    "\n",
    "Model = XGB.fit(X,y)\n",
    "y_pred = Model.predict(X_test)\n",
    "print('Required Number of Wins:', round(float(y_pred),2))"
   ]
  },
  {
   "cell_type": "markdown",
   "metadata": {},
   "source": [
    "# ADA BOOST Model"
   ]
  },
  {
   "cell_type": "code",
   "execution_count": 62,
   "metadata": {},
   "outputs": [
    {
     "data": {
      "text/plain": [
       "{'n_estimators': 23}"
      ]
     },
     "execution_count": 62,
     "metadata": {},
     "output_type": "execute_result"
    }
   ],
   "source": [
    "RF = RandomForestRegressor(n_estimators=26, max_depth=5)\n",
    "boost = AdaBoostRegressor(RF)\n",
    "\n",
    "grid = GridSearchCV(boost, param_grid={'n_estimators':np.arange(1,30)}, cv = 5, scoring = 'neg_mean_squared_error')\n",
    "model = grid.fit(X,y)\n",
    "\n",
    "grid.best_params_"
   ]
  },
  {
   "cell_type": "code",
   "execution_count": 64,
   "metadata": {},
   "outputs": [
    {
     "data": {
      "text/plain": [
       "array([99.80090735])"
      ]
     },
     "execution_count": 64,
     "metadata": {},
     "output_type": "execute_result"
    }
   ],
   "source": [
    "RF = RandomForestRegressor(n_estimators=26, max_depth=5)\n",
    "boost = AdaBoostRegressor(RF, n_estimators=23)\n",
    "\n",
    "model = boost.fit(X,y)\n",
    "model.predict(X_test)"
   ]
  },
  {
   "cell_type": "markdown",
   "metadata": {},
   "source": [
    "# Random Forest Model"
   ]
  },
  {
   "cell_type": "code",
   "execution_count": 36,
   "metadata": {},
   "outputs": [],
   "source": [
    "from sklearn.experimental import enable_iterative_imputer\n",
    "from sklearn.impute import IterativeImputer\n",
    "It=IterativeImputer()\n",
    "X=pd.DataFrame(It.fit_transform(X), columns = X.columns)"
   ]
  },
  {
   "cell_type": "code",
   "execution_count": 37,
   "metadata": {},
   "outputs": [],
   "source": [
    "X = df_final[['OBP','SLG','OOBP','OSLG']]\n",
    "y = df_final['W']"
   ]
  },
  {
   "cell_type": "code",
   "execution_count": 58,
   "metadata": {},
   "outputs": [
    {
     "data": {
      "text/plain": [
       "{'max_depth': 11, 'n_estimators': 23}"
      ]
     },
     "execution_count": 58,
     "metadata": {},
     "output_type": "execute_result"
    }
   ],
   "source": [
    "RF = RandomForestRegressor()\n",
    "\n",
    "param = {'n_estimators':np.arange(1,30), 'max_depth':np.arange(1,15)}\n",
    "grid = GridSearchCV(RF, param_grid = param, cv = 5, scoring = 'neg_mean_squared_error')\n",
    "\n",
    "grid.fit(X,y)\n",
    "grid.best_params_"
   ]
  },
  {
   "cell_type": "code",
   "execution_count": 59,
   "metadata": {},
   "outputs": [
    {
     "data": {
      "text/plain": [
       "RandomForestRegressor(max_depth=11, n_estimators=23)"
      ]
     },
     "execution_count": 59,
     "metadata": {},
     "output_type": "execute_result"
    }
   ],
   "source": [
    "import warnings\n",
    "warnings.filterwarnings('ignore')\n",
    "from sklearn.linear_model import LinearRegression\n",
    "from sklearn.experimental import enable_iterative_imputer\n",
    "from sklearn.impute import IterativeImputer\n",
    "from sklearn.ensemble import RandomForestRegressor\n",
    "\n",
    "RF = RandomForestRegressor(n_estimators=23, max_depth = 11)\n",
    "RF.fit(X,y)"
   ]
  },
  {
   "cell_type": "code",
   "execution_count": 9,
   "metadata": {},
   "outputs": [],
   "source": [
    "X_test = pd.DataFrame({'OBP':[0.339], 'SLG':[0.430], 'OOBP':[0.307],'OSLG':[0.373]})"
   ]
  },
  {
   "cell_type": "code",
   "execution_count": 61,
   "metadata": {},
   "outputs": [
    {
     "data": {
      "text/plain": [
       "array([101.62415459])"
      ]
     },
     "execution_count": 61,
     "metadata": {},
     "output_type": "execute_result"
    }
   ],
   "source": [
    "RF.predict(X_test)"
   ]
  },
  {
   "cell_type": "markdown",
   "metadata": {},
   "source": [
    "### Linear Model"
   ]
  },
  {
   "cell_type": "markdown",
   "metadata": {},
   "source": [
    "##### Linear Regression Model"
   ]
  },
  {
   "cell_type": "code",
   "execution_count": 106,
   "metadata": {},
   "outputs": [
    {
     "name": "stdout",
     "output_type": "stream",
     "text": [
      "Required Number of Wins: 102.87\n"
     ]
    }
   ],
   "source": [
    "# Assigning a variable for the model\n",
    "LR = LinearRegression()\n",
    "\n",
    "# Training the model\n",
    "LR.fit(X,y)\n",
    "\n",
    "# Predicting with the test data\n",
    "print('Required Number of Wins:', round(float(LR.predict(X_test)),2))"
   ]
  },
  {
   "cell_type": "code",
   "execution_count": null,
   "metadata": {},
   "outputs": [],
   "source": []
  }
 ],
 "metadata": {
  "kernelspec": {
   "display_name": "Python 3",
   "language": "python",
   "name": "python3"
  },
  "language_info": {
   "codemirror_mode": {
    "name": "ipython",
    "version": 3
   },
   "file_extension": ".py",
   "mimetype": "text/x-python",
   "name": "python",
   "nbconvert_exporter": "python",
   "pygments_lexer": "ipython3",
   "version": "3.8.3"
  }
 },
 "nbformat": 4,
 "nbformat_minor": 4
}
